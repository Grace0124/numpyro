{
 "cells": [
  {
   "cell_type": "markdown",
   "id": "968ed0a5",
   "metadata": {},
   "source": []
  },
  {
   "cell_type": "code",
   "execution_count": 25,
   "id": "94e5e06a-d262-49fa-9b69-74dd5706d920",
   "metadata": {},
   "outputs": [],
   "source": [
    "# Numerical analysis\n",
    "import numpy as np\n",
    "import jax.numpy as jnp\n",
    "from jax import random\n",
    "\n",
    "# Bayesian inference\n",
    "import numpyro\n",
    "import numpyro.distributions as dist\n",
    "from numpyro.infer import MCMC, NUTS\n",
    "import arviz as az\n",
    "\n",
    "# Utils\n",
    "from random import randrange\n",
    "from sklearn.metrics import mean_squared_error\n",
    "\n",
    "# Visualisation\n",
    "import matplotlib.pyplot as plt\n",
    "import seaborn as sns\n",
    "\n",
    "# Set pseudo random number key\n",
    "prng_key = random.PRNGKey(0)"
   ]
  },
  {
   "cell_type": "markdown",
   "id": "280b34de",
   "metadata": {},
   "source": [
    "<h1> Overview </h1>\n",
    "\n",
    "We will compare how hyperprior choice $\\tau$ affects performance of the horseshoe prior by replicating an experiment done by Piironen and Vehtari in \"Sparsity information and regularization in the horseshoe and other shrinkage priors\"."
   ]
  },
  {
   "cell_type": "markdown",
   "id": "bca3dd74-c7be-4141-b692-e5350a64c682",
   "metadata": {},
   "source": [
    "<h1> Generate Data </h1>"
   ]
  },
  {
   "cell_type": "markdown",
   "id": "963abce9",
   "metadata": {},
   "source": [
    "$$y_i \\sim \\beta_i + \\epsilon_i$$\n",
    "$$\\epsilon_i \\sim N(0, \\sigma^2), \\;\\; i = 1, ..., 400$$\n",
    "Similarly to Piironen's toy example, We generate $100$ data realizations. Our true parameter vector $\\beta^*$ has length $D=400$ and $p^*=20$ non-zero entries with some value $A \\in$ $\\{1, 2, ..., 10\\}$. The total number of observations per realization is $n=400$."
   ]
  },
  {
   "cell_type": "code",
   "execution_count": 10,
   "id": "f7877340",
   "metadata": {},
   "outputs": [],
   "source": [
    "def generate_data(dim, pstar, a, sigma, nrep):\n",
    "  \"\"\"\n",
    "  Parameters:\n",
    "    int dim: The dimension of the dataset\n",
    "    int pstar: The number of true non-zero signals\n",
    "    real a: The magnitude of true non-zero signals\n",
    "    real sigma: Standard deviation of the noise\n",
    "    nrep: The number of replications\n",
    "  \"\"\"\n",
    "  data = np.zeros((nrep, dim))                                # Initialise\n",
    "  data[:,0:(pstar-1)] = data[:,0:(pstar-1)] + a               # Add signal\n",
    "  data = data + np.random.normal(0, sigma, size=(nrep, dim))  # Add noise\n",
    "  \n",
    "  return data"
   ]
  },
  {
   "cell_type": "code",
   "execution_count": 18,
   "id": "12a98a62",
   "metadata": {},
   "outputs": [
    {
     "name": "stdout",
     "output_type": "stream",
     "text": [
      "(100, 400)\n"
     ]
    }
   ],
   "source": [
    "# Test\n",
    "test = generate_data(400, 20, 10, 0.1, 100)\n",
    "print(test.shape)"
   ]
  },
  {
   "cell_type": "code",
   "execution_count": null,
   "id": "993dfad5",
   "metadata": {},
   "outputs": [],
   "source": [
    "# Parameters\n",
    "n_realizations = 5\n",
    "n = 400 # number of observations, length of beta_star \n",
    "D = n \n",
    "p_star = 20 # number of non-zero predictors\n",
    "sigma = 1 # noise parameter\n",
    "\n",
    "# Generate data\n",
    "def get_data(A):\n",
    "    y = [] # outputs\n",
    "    beta_stars = [] \n",
    "    for _ in range(n_realizations):\n",
    "        # Create true beta vector beta_star\n",
    "        beta_star = np.zeros(n)\n",
    "        beta_star[range(20)] = A\n",
    "\n",
    "        # Generate response variable y\n",
    "        curr_y = beta_star + np.random.randn(len(beta_star)) * sigma\n",
    "\n",
    "        # Store the generated data\n",
    "        y.append(curr_y)\n",
    "        beta_stars.append(beta_star)\n",
    "\n",
    "    # Convert lists to numpy arrays \n",
    "    y = np.array(y)\n",
    "    assert y.shape == (n_realizations, D), f'{y.shape}'\n",
    "    beta_stars = np.array(beta_stars)\n",
    "    return y, beta_stars\n",
    "\n",
    "all_data = {}\n",
    "A_values = [1, 2, 3, 4, 5, 6]\n",
    "smaller_A_values = [4, 6]\n",
    "for A in A_values:\n",
    "    all_data[A] = get_data(A) #all_data[A] = (y, beta_stars) for that A"
   ]
  },
  {
   "cell_type": "markdown",
   "id": "0b678973-bb2a-4bc2-b7ef-2ef8154e5ef2",
   "metadata": {},
   "source": [
    "<h2> Define the Model </h2>"
   ]
  },
  {
   "cell_type": "markdown",
   "id": "4c8de03f-333b-48cc-9442-5bb42bf5cdd9",
   "metadata": {},
   "source": [
    "Horseshoe prior:\n",
    "$$ y_i \\sim N(\\beta_i, \\sigma^2) \\quad \\text{for } i = 1,2,\\ldots,n$$ \n",
    "$$ \\beta_i \\sim N(0, \\tau^2 \\lambda_i^2) $$\n",
    "$$ \\lambda_i \\sim C^+(0, 1)$$\n",
    "\n",
    "Small tip for latex equations: You can do this to align the equations\n",
    "$$\n",
    "\\begin{align*}\n",
    "y_i &\\sim N(\\beta_i, \\sigma^2) \\quad \\text{for } i = 1,2,\\ldots,n \\\\\n",
    "\\beta_i &\\sim N(0, \\tau^2 \\lambda_i^2) \\\\\n",
    "\\lambda_i &\\sim C^+(0, 1) \\\\\n",
    "\\end{align*}\n",
    "$$"
   ]
  },
  {
   "cell_type": "markdown",
   "id": "23bf0ddf",
   "metadata": {},
   "source": [
    "We will compare two different hyperpriors for $\\tau$: \n",
    "\n",
    "$\\tau \\sim C^+(0, 1)$ and $\\tau = \\tau_0 = \\frac{p^*}{D-p^*}\\sigma$."
   ]
  },
  {
   "cell_type": "code",
   "execution_count": null,
   "id": "d4428bf2-2362-4631-bdcf-7190ffd09e2e",
   "metadata": {},
   "outputs": [],
   "source": [
    "def horseshoe_linear_model(tau, y=None, sigma=1):\n",
    "    '''\n",
    "    Parameters:\n",
    "       array y: dependent variable\n",
    "       int sigma: stdev of y\n",
    "    '''\n",
    "    if tau == \"Half-Cauchy\":\n",
    "       tau = numpyro.sample('tau', dist.HalfCauchy(1))\n",
    "    elif tau ==\"Tau_0\":\n",
    "       tau = (p_star / (D-p_star)) * sigma\n",
    "    else:\n",
    "       raise ValueError\n",
    "    lambdas = numpyro.sample(\"lambdas\", dist.HalfCauchy(jnp.ones(n)))\n",
    "    # slightly different parametrization for efficiency\n",
    "    betas = numpyro.sample(\"betas\", dist.Normal(0, tau*lambdas))\n",
    "\n",
    "    kappas = numpyro.deterministic(\"kappas\", 1 / (1 + n * tau**2 * lambdas**2))\n",
    "\n",
    "    numpyro.sample('y', dist.Normal(betas, sigma), obs=y)"
   ]
  },
  {
   "cell_type": "code",
   "execution_count": 45,
   "id": "a1878b41",
   "metadata": {},
   "outputs": [],
   "source": [
    "def hs_model(sigma=1, y=None):\n",
    "  P = y.size\n",
    "  tau = numpyro.sample('tau', dist.HalfCauchy(1))\n",
    "  lam = numpyro.sample('lam', dist.HalfCauchy(jnp.ones(P)))\n",
    "  beta = numpyro.sample('beta', dist.Normal(0, tau*lam))\n",
    "\n",
    "  # Evaluate log-likelihood\n",
    "  numpyro.sample('y', dist.Normal(beta, sigma), obs=y)"
   ]
  },
  {
   "cell_type": "code",
   "execution_count": 46,
   "id": "52fd3433",
   "metadata": {},
   "outputs": [],
   "source": [
    "def rhs_fixed_model(pstar, sigma=1, y=None):\n",
    "    P = y.size\n",
    "    tau = (pstar / (P-pstar)) * sigma\n",
    "    lam = numpyro.sample(\"lam\", dist.HalfCauchy(jnp.ones(P)))\n",
    "    beta = numpyro.sample(\"beta\", dist.Normal(0, tau*lam))\n",
    "\n",
    "    numpyro.sample('y', dist.Normal(beta, sigma), obs=y)"
   ]
  },
  {
   "cell_type": "markdown",
   "id": "a22ebcb7-75c4-435f-b761-19af9bf2fc0b",
   "metadata": {},
   "source": [
    "<h1> Run and Evaluate MCMC </h1>"
   ]
  },
  {
   "cell_type": "code",
   "execution_count": 47,
   "id": "2d8945ae",
   "metadata": {},
   "outputs": [],
   "source": [
    "y = generate_data(400, 20, 10, 1, 100)"
   ]
  },
  {
   "cell_type": "code",
   "execution_count": 61,
   "id": "2d7ceda0",
   "metadata": {},
   "outputs": [],
   "source": [
    "def run_mcmc(model, prng_key, y, **kwargs):\n",
    "  nuts = NUTS(model)\n",
    "  mcmc = MCMC(nuts, num_warmup=500, num_samples=1000, num_chains=4)\n",
    "  mcmc.run(prng_key, y=y, **kwargs)\n",
    "\n",
    "  return mcmc"
   ]
  },
  {
   "cell_type": "code",
   "execution_count": 62,
   "id": "c37142c4",
   "metadata": {},
   "outputs": [
    {
     "name": "stderr",
     "output_type": "stream",
     "text": [
      "/var/folders/fc/szc97hhx4sgg1mzfl9bt0n240000gn/T/ipykernel_8815/1936875693.py:3: UserWarning: There are not enough devices to run parallel chains: expected 4 but got 1. Chains will be drawn sequentially. If you are running MCMC in CPU, consider using `numpyro.set_host_device_count(4)` at the beginning of your program. You can double-check how many devices are available in your system using `jax.local_device_count()`.\n",
      "  mcmc = MCMC(nuts, num_warmup=500, num_samples=1000, num_chains=4)\n",
      "sample: 100%|██████████| 1500/1500 [00:19<00:00, 75.91it/s, 1023 steps of size 1.54e-03. acc. prob=0.94]\n",
      "sample: 100%|██████████| 1500/1500 [00:10<00:00, 140.37it/s, 1023 steps of size 3.73e-03. acc. prob=0.47]\n",
      "sample: 100%|██████████| 1500/1500 [00:16<00:00, 93.46it/s, 1023 steps of size 1.99e-03. acc. prob=0.91]\n",
      "sample: 100%|██████████| 1500/1500 [00:14<00:00, 104.82it/s, 1023 steps of size 1.27e-03. acc. prob=0.80]\n"
     ]
    }
   ],
   "source": [
    "# Standard horseshoe model\n",
    "fit_hs = run_mcmc(hs_model, prng_key, y[1,:])"
   ]
  },
  {
   "cell_type": "code",
   "execution_count": 60,
   "id": "1e560f41",
   "metadata": {},
   "outputs": [
    {
     "name": "stderr",
     "output_type": "stream",
     "text": [
      "/var/folders/fc/szc97hhx4sgg1mzfl9bt0n240000gn/T/ipykernel_8815/1936875693.py:3: UserWarning: There are not enough devices to run parallel chains: expected 4 but got 1. Chains will be drawn sequentially. If you are running MCMC in CPU, consider using `numpyro.set_host_device_count(4)` at the beginning of your program. You can double-check how many devices are available in your system using `jax.local_device_count()`.\n",
      "  mcmc = MCMC(nuts, num_warmup=500, num_samples=1000, num_chains=4)\n",
      "sample: 100%|██████████| 1500/1500 [00:14<00:00, 102.86it/s, 1023 steps of size 1.59e-03. acc. prob=0.88]\n",
      "sample: 100%|██████████| 1500/1500 [00:04<00:00, 324.71it/s, 8 steps of size 2.38e-03. acc. prob=0.12]  \n",
      "sample: 100%|██████████| 1500/1500 [00:13<00:00, 111.81it/s, 1023 steps of size 2.42e-03. acc. prob=0.81]\n",
      "sample: 100%|██████████| 1500/1500 [00:13<00:00, 107.24it/s, 1023 steps of size 9.73e-04. acc. prob=0.89]\n"
     ]
    }
   ],
   "source": [
    "# RHS with fixed tau\n",
    "fit_rhs = run_mcmc(rhs_fixed_model, prng_key, y[1,:], pstar=20)"
   ]
  },
  {
   "cell_type": "code",
   "execution_count": 63,
   "id": "debc9fea",
   "metadata": {},
   "outputs": [
    {
     "data": {
      "text/plain": [
       "Array([ 9.90970707e+00,  8.16509151e+00,  1.11734848e+01,  8.52251625e+00,\n",
       "        1.02354412e+01,  9.70056725e+00,  9.44799423e+00,  9.94846916e+00,\n",
       "        9.93171501e+00,  8.36719322e+00,  9.52340412e+00,  8.65951633e+00,\n",
       "        1.08054905e+01,  8.61659813e+00,  7.86649418e+00,  9.55214310e+00,\n",
       "        1.06786880e+01,  9.51243877e+00,  9.19294930e+00, -2.17114985e-02,\n",
       "       -6.23188633e-03, -8.88641700e-02,  3.27619240e-02,  1.75168678e-01,\n",
       "        7.05813915e-02, -1.27974108e-01,  6.04104288e-02,  2.55903378e-02,\n",
       "        1.26844663e-02, -4.08631098e-03, -7.91246071e-02, -1.29003167e-01,\n",
       "        8.05113986e-02, -7.25871474e-02, -1.35991186e-01, -7.46583715e-02,\n",
       "        1.29787028e-01, -4.69688512e-02, -9.66205522e-02,  1.17159061e-01,\n",
       "        6.76649734e-02, -1.60603952e-02, -6.23149797e-02,  1.99011758e-01,\n",
       "       -3.54241058e-02,  8.37858394e-02,  1.77682236e-01,  3.64898518e-03,\n",
       "        4.91233319e-02, -1.10914692e-01,  3.47084589e-02,  1.85317650e-01,\n",
       "        4.08909529e-01, -6.81104213e-02, -7.12732375e-02, -2.58172333e-01,\n",
       "       -1.85199585e-02,  3.77122164e-02,  5.31191826e-02, -4.14196737e-02,\n",
       "       -1.19867973e-01,  1.64925531e-02,  1.57987937e-01,  5.34480475e-02,\n",
       "        8.98862630e-02, -1.45389944e-01,  1.03604898e-01, -4.20591719e-02,\n",
       "        1.82525456e-01, -2.72308774e-02,  6.12888150e-02,  1.20710554e-02,\n",
       "       -7.00116903e-02,  1.09096222e-01,  3.33901234e-02, -1.76022649e-01,\n",
       "        2.36253124e-02,  6.41347691e-02,  5.45090325e-02,  2.53695506e-03,\n",
       "        6.69415221e-02,  7.53718689e-02,  8.26038122e-02, -4.74706031e-02,\n",
       "       -1.56869441e-02,  3.98937501e-02, -7.48141333e-02, -3.86868529e-02,\n",
       "       -1.78755727e-02, -5.37820347e-02,  1.25277340e-01, -5.83345115e-01,\n",
       "       -8.78516957e-02,  5.16338885e-01, -4.40736748e-02, -7.79185146e-02,\n",
       "       -1.75269395e-02,  3.11152749e-02, -1.97579727e-01,  1.88458362e-03,\n",
       "       -7.16271698e-02, -6.22909889e-02, -2.67933290e-02, -1.69801526e-02,\n",
       "        2.24127397e-01, -9.02481079e-02, -1.67163625e-01, -2.52854049e-01,\n",
       "       -1.33689269e-01,  1.22759063e-02,  4.75882040e-03, -6.88408548e-03,\n",
       "        5.61231077e-01,  2.45548293e-01,  1.88534111e-01,  2.06658207e-02,\n",
       "       -2.85070632e-02, -9.84021500e-02,  6.11942858e-02,  5.98242134e-02,\n",
       "        6.92632655e-03, -2.74779022e-01, -7.87375495e-02,  6.00570366e-02,\n",
       "       -2.75271297e-01,  3.86878461e-01,  6.39766991e-01,  1.79682657e-01,\n",
       "       -5.98610938e-02, -7.94057995e-02, -1.31136060e-01,  2.92856283e-02,\n",
       "        7.48873204e-02,  8.01984742e-02,  2.89437205e-01,  1.38321459e-01,\n",
       "       -7.86756352e-02,  3.09685767e-02,  5.46698011e-02,  2.74887294e-01,\n",
       "        6.37303740e-02,  3.06658801e-02, -6.40222803e-02,  6.52756616e-02,\n",
       "       -1.58384833e-02, -1.35740256e-02, -4.62818712e-01, -1.67988334e-02,\n",
       "        2.36693937e-02,  8.27252641e-02, -4.58460450e-01, -8.74249637e-03,\n",
       "       -3.00292484e-02, -1.42227933e-01, -9.42814574e-02, -4.75177094e-02,\n",
       "       -1.84101805e-01, -3.28483462e-01, -4.68750447e-02, -4.12304997e-02,\n",
       "       -3.33724767e-02, -3.25489906e-03, -9.74861756e-02, -2.21473239e-02,\n",
       "       -2.78737009e-01, -2.51119733e-02,  5.80198318e-02,  3.33358258e-01,\n",
       "       -1.01726875e-01, -2.75385886e-01, -1.59732610e-01, -1.83150053e-01,\n",
       "       -1.42133802e-01, -3.81653495e-02,  1.31266981e-01,  2.21469328e-01,\n",
       "       -5.87243922e-02,  1.89041998e-02,  1.25662424e-03,  3.02789062e-02,\n",
       "        3.92971516e-01, -3.22645083e-02,  4.05446067e-02, -1.22563029e-02,\n",
       "       -1.50604593e-03,  8.46827701e-02,  4.19992879e-02,  8.75484422e-02,\n",
       "        3.05043962e-02, -6.62204146e-01, -7.27277696e-02,  7.52528384e-02,\n",
       "        9.20142308e-02, -2.12850899e-01, -5.07532153e-04, -5.88464877e-03,\n",
       "        3.51869702e-01, -2.43185717e-03, -8.20050687e-02, -2.01688185e-02,\n",
       "        3.74886304e-01,  1.20023169e-01, -2.13954551e-03, -6.59938008e-02,\n",
       "        4.65121120e-01,  1.18510872e-01, -1.31803796e-01,  4.09120843e-02,\n",
       "        2.39250697e-02, -8.23095161e-03,  5.32403961e-02,  5.08537330e-02,\n",
       "       -4.73670624e-02, -8.96594301e-03,  1.76028516e-02, -2.36417726e-02,\n",
       "        6.32775342e-03, -8.32857378e-03,  3.55472684e-01,  4.47715186e-02,\n",
       "       -5.19858524e-02,  6.56481981e-02,  9.32949111e-02, -2.12860536e-02,\n",
       "        6.82205707e-02, -4.82208133e-02, -2.68689767e-02,  4.43034992e-02,\n",
       "        2.19624788e-02, -1.33785885e-02,  7.01533109e-02, -4.23841551e-02,\n",
       "        6.80422410e-02,  5.01850713e-03, -1.31241307e-01, -1.69152897e-02,\n",
       "       -2.97230572e-01,  8.25273022e-02, -1.19611852e-01, -2.25610852e-01,\n",
       "        1.47439791e-02,  1.49134472e-01, -5.10797091e-02, -2.96720415e-01,\n",
       "        6.46515638e-02,  5.67521490e-02, -3.25222462e-02, -6.18052781e-02,\n",
       "       -4.55568992e-02, -1.83149695e-01, -5.82940169e-02,  1.47785693e-02,\n",
       "        6.40619695e-02, -1.22392010e-02, -2.73056298e-01, -1.77063923e-02,\n",
       "        5.85614368e-02,  6.03139214e-02,  2.61879917e-02,  3.09384316e-02,\n",
       "       -2.21869666e-02, -1.25258148e-01,  3.41207418e-03,  5.39813824e-02,\n",
       "        7.56600127e-02, -4.23777133e-01, -9.97848868e-01,  1.31528527e-01,\n",
       "        5.67900110e-03,  7.98322409e-02,  4.61889245e-02,  6.26103505e-02,\n",
       "       -1.12912104e-01,  1.94156975e-01, -2.06451919e-02, -5.97815923e-02,\n",
       "        1.86556682e-01,  1.75035134e-01, -1.07090548e-01, -1.14605777e-01,\n",
       "        4.65874709e-02, -9.23203290e-01,  1.61539242e-02, -1.82171445e-02,\n",
       "        3.61951999e-02, -1.46980628e-01,  1.40452450e-02,  1.09574094e-01,\n",
       "       -9.30452198e-02,  5.71502596e-02, -1.20413443e-02, -8.72658100e-03,\n",
       "       -1.28467351e-01, -9.58573446e-02, -1.12450337e-02, -8.34861249e-02,\n",
       "        8.55328608e-03, -6.99774027e-02, -2.68716127e-01, -1.11389924e-02,\n",
       "        1.65214330e-01, -4.08684928e-03,  7.99636766e-02,  1.20372642e-02,\n",
       "       -1.11108376e-02, -1.69313066e-02,  1.44657232e-02, -3.47890705e-01,\n",
       "       -6.03282228e-02,  2.05126181e-02, -5.62896160e-03, -8.99159014e-02,\n",
       "        6.50620461e-02,  7.37791285e-02,  9.47136953e-02, -1.51230112e-01,\n",
       "        1.85153008e-01,  7.29592377e-03, -3.51316892e-02,  3.07838395e-02,\n",
       "        2.66167019e-02,  1.48852626e-02, -5.51384091e-01,  5.18682925e-03,\n",
       "        6.91804364e-02, -6.39415812e-03, -1.85330793e-01, -1.80476811e-02,\n",
       "       -6.85763583e-02, -5.13710156e-02,  9.08730999e-02, -6.20133169e-02,\n",
       "       -3.59674473e-03,  6.68801144e-02, -2.02812850e-02,  3.69803309e-02,\n",
       "        2.49948464e-02, -8.25327414e-04, -6.66435529e-03, -9.76033360e-02,\n",
       "       -5.98642938e-02,  4.25434709e-02,  2.00410619e-01,  1.34629130e-01,\n",
       "        2.50981562e-02, -3.38632119e-04,  3.56059894e-02,  2.41084054e-01,\n",
       "       -1.80344760e-01,  2.19155513e-02, -5.25014568e-03, -8.52002725e-02,\n",
       "       -5.48218302e-02,  1.47523265e-03, -2.37025082e-01,  8.99832621e-02,\n",
       "       -1.77138656e-01, -2.03312542e-02,  1.15972601e-01, -3.80912989e-01,\n",
       "        2.49603271e-01, -2.05025580e-02,  1.53532892e-01, -4.08830866e-02,\n",
       "       -3.30017895e-01, -3.69699709e-02, -1.96475536e-02, -9.56228822e-02,\n",
       "        7.93299302e-02,  1.10700585e-01,  1.02255151e-01, -3.22642088e-01,\n",
       "        4.33603376e-02, -1.83565557e-01,  1.42377213e-01,  5.60212135e-01,\n",
       "        9.88450050e-02,  1.83389232e-01,  1.98751420e-01, -1.12153903e-01,\n",
       "        7.08407536e-02, -3.97883207e-01, -1.20126177e-02,  7.42058903e-02,\n",
       "        8.17725249e-03,  1.46720232e-03,  4.33734804e-02,  2.38390751e-02,\n",
       "       -1.65229328e-02, -5.53567000e-02,  1.46434195e-02, -5.72621264e-03,\n",
       "        2.12343019e-02, -9.74065885e-02, -2.95743812e-02,  9.19805467e-03,\n",
       "       -4.68622753e-03, -8.99232700e-02, -9.42675322e-02,  4.65385504e-02],      dtype=float32)"
      ]
     },
     "execution_count": 63,
     "metadata": {},
     "output_type": "execute_result"
    }
   ],
   "source": [
    "draws = test.get_samples()\n",
    "draws['beta'].mean(axis=0)"
   ]
  },
  {
   "cell_type": "code",
   "execution_count": null,
   "id": "ea5dd359-e510-4f4d-9a17-39c0dbd0be21",
   "metadata": {},
   "outputs": [],
   "source": [
    "def run_mcmc(tau, y):\n",
    "    horseshoe_mcmc = MCMC(\n",
    "        NUTS(horseshoe_linear_model),\n",
    "        num_warmup= 1000,\n",
    "        num_samples= 1000,\n",
    "        num_chains= 4\n",
    "    )\n",
    "    horseshoe_mcmc.run(random.PRNGKey(2), tau=tau, y=y)\n",
    "    return horseshoe_mcmc.get_samples()\n",
    "\n",
    "beta_samples = {}\n",
    "all_mcmc_runs = []\n",
    "kappa_samples = []\n",
    "mean_sq_errors = {\"Half-Cauchy\": [0]*7, \"Tau_0\": [0]*7}\n",
    "\n",
    "for A, (y, beta_stars) in all_data.items():\n",
    "    beta_samples[A] = {\"Half-Cauchy\": [], \"Tau_0\": []}\n",
    "\n",
    "    samples_halfcauchy = run_mcmc(\"Half-Cauchy\", y)\n",
    "    estimated_betas_halfcauchy = samples_halfcauchy['betas'].mean(axis=0)\n",
    "    mse_halfcauchy = mean_squared_error(beta_stars[0], estimated_betas_halfcauchy)\n",
    "    mean_sq_errors[\"Half-Cauchy\"][A] = mse_halfcauchy\n",
    "    beta_samples[A][\"Half-Cauchy\"].append(estimated_betas_halfcauchy)\n",
    "    kappa_samples.extend(samples_halfcauchy['kappas'])\n",
    "\n",
    "    samples_tau0 = run_mcmc(\"Tau_0\", y)\n",
    "    estimated_betas_tau0 = samples_tau0['betas'].mean(axis=0)\n",
    "    mse_tau0 = mean_squared_error(beta_stars[0], estimated_betas_tau0)\n",
    "    mean_sq_errors[\"Tau_0\"][A] = mse_tau0\n",
    "    beta_samples[A][\"Tau_0\"].append(estimated_betas_tau0)\n",
    "    kappa_samples.extend(samples_tau0['kappas'])"
   ]
  },
  {
   "cell_type": "markdown",
   "id": "c6d1d9f2",
   "metadata": {},
   "source": [
    "The <a href=https://mc-stan.org/docs/2_21/reference-manual/effective-sample-size-section.html>estimated effective sample size (ESS)</a> measures how much information is lost in MCMC due to correlation between different samples.\n",
    "\n",
    "The <a href=https://arxiv.org/abs/1812.09384>Gelman-Rubin statistic</a> ($\\hat{R}$) examines how well the chains have mixed. Common thresholds used include $1.01$, $1.05$, and $1.1$."
   ]
  },
  {
   "cell_type": "code",
   "execution_count": null,
   "metadata": {},
   "outputs": [],
   "source": [
    "# for mcmc in all_mcmc_runs[:5]:\n",
    "#     print(az.ess(mcmc))\n",
    "#     print(az.rhat(mcmc))"
   ]
  },
  {
   "cell_type": "markdown",
   "id": "4fa1e572-7b5c-4759-95fc-e17bada72262",
   "metadata": {},
   "source": [
    "<h1> Results </h1>"
   ]
  },
  {
   "cell_type": "code",
   "execution_count": null,
   "id": "9fc59a82",
   "metadata": {},
   "outputs": [],
   "source": [
    "def plot_posterior_betas(beta_stars, y, estimated_betas, ax):\n",
    "    ax.scatter(range(D), beta_stars, color='red', s=10) # plot actual betas\n",
    "    ax.scatter(range(D), estimated_betas, color='black', s=10, alpha=0.4) # plot estimated betas\n",
    "    # ax.scatter(range(len(y[i])), y[i], s=10, alpha=0.2, color='grey', marker='+') # plot y values\n",
    "\n",
    "\n",
    "fig, ((ax1, ax2), (ax3, ax4)) = plt.subplots(2, 2, figsize=(12, 7), layout=\"tight\")\n",
    "for ax in [ax1, ax2, ax3, ax4]: \n",
    "    ax.set_facecolor(\"#ECECEC\") # set graph background color to grey\n",
    "    ax.grid(visible=True, color=\"black\", alpha=0.1) # add grid lines\n",
    "\n",
    "# resetting y-axis range so that the graphs line up\n",
    "ax4.set_ylim([-2, 8]) \n",
    "ax3.set_ylim([-2, 8])\n",
    "ax2.set_ylim([-2.5, 6]) \n",
    "ax1.set_ylim([-2.5, 6])\n",
    "\n",
    "d = {4: {\"Half-Cauchy\": ax1, \"Tau_0\": ax2}, 6: {\"Half-Cauchy\": ax3, \"Tau_0\": ax4}}\n",
    "for A in [4, 6]:\n",
    "    for tau in [\"Half-Cauchy\", \"Tau_0\"]:\n",
    "        y = all_data[A][0].mean(axis=0)\n",
    "        beta_stars = all_data[A][1].mean(axis=0)\n",
    "        estimated_betas = beta_samples[A][tau][0]\n",
    "        # print(len(beta_stars))\n",
    "        # print(len(y))\n",
    "        # print(len(estimated_betas))\n",
    "        plot_posterior_betas(beta_stars, y, estimated_betas, d[A][tau])\n",
    "\n",
    "# add labels to graph\n",
    "ax1.set_title(r'$\\tau \\sim C^+(0, 1)$')\n",
    "ax2.set_title(r'$\\tau \\sim \\tau_0$')\n",
    "ax1.set(ylabel=r'$A=4$')\n",
    "ax3.set(ylabel=r'$A=6$', xlabel=r'Entry $i$')\n",
    "ax4.set(xlabel=r'Entry $i$')\n"
   ]
  },
  {
   "cell_type": "code",
   "execution_count": null,
   "id": "482fb7e6",
   "metadata": {},
   "outputs": [],
   "source": [
    "plt.plot(range(len(mean_sq_errors[\"Half-Cauchy\"])), mean_sq_errors[\"Half-Cauchy\"])\n",
    "plt.plot(range(len(mean_sq_errors[\"Tau_0\"])), mean_sq_errors[\"Tau_0\"])"
   ]
  },
  {
   "cell_type": "code",
   "execution_count": null,
   "id": "ba35c750",
   "metadata": {},
   "outputs": [],
   "source": [
    "kappa_samples = np.ndarray.flatten(np.array(kappa_samples))\n",
    "kappa_samples"
   ]
  },
  {
   "cell_type": "code",
   "execution_count": null,
   "id": "189088c5",
   "metadata": {},
   "outputs": [],
   "source": [
    "sns.kdeplot(kappa_samples, legend=None)"
   ]
  },
  {
   "cell_type": "code",
   "execution_count": null,
   "id": "597ad768",
   "metadata": {},
   "outputs": [],
   "source": []
  }
 ],
 "metadata": {
  "kernelspec": {
   "display_name": "Python 3 (ipykernel)",
   "language": "python",
   "name": "python3"
  },
  "language_info": {
   "codemirror_mode": {
    "name": "ipython",
    "version": 3
   },
   "file_extension": ".py",
   "mimetype": "text/x-python",
   "name": "python",
   "nbconvert_exporter": "python",
   "pygments_lexer": "ipython3",
   "version": "3.9.13"
  }
 },
 "nbformat": 4,
 "nbformat_minor": 5
}
