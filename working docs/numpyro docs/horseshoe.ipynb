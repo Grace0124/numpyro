{
 "cells": [
  {
   "cell_type": "code",
   "execution_count": 193,
   "metadata": {},
   "outputs": [],
   "source": [
    "import argparse\n",
    "import os\n",
    "import time\n",
    "\n",
    "import numpy as np\n",
    "from jax.nn import sigmoid\n",
    "\n",
    "import jax.numpy as jnp\n",
    "import jax.random as random\n",
    "\n",
    "import numpyro\n",
    "from numpyro.diagnostics import summary\n",
    "import numpyro.distributions as dist\n",
    "from numpyro.infer import MCMC, NUTS\n",
    "\n",
    "import matplotlib.pyplot as plt"
   ]
  },
  {
   "cell_type": "code",
   "execution_count": 194,
   "metadata": {},
   "outputs": [],
   "source": [
    "def binary_model(X, Y):\n",
    "    D = X.shape[1]\n",
    "\n",
    "    lambdas = numpyro.sample(\"lambdas\", dist.HalfCauchy(jnp.ones(D)))\n",
    "    tau = numpyro.sample(\"tau\", dist.HalfCauchy(jnp.ones(1)))\n",
    "\n",
    "    unscaled_betas = numpyro.sample(\"unscaled_betas\", dist.Normal(0, jnp.ones(D)))\n",
    "    scaled_betas = numpyro.deterministic(\"betas\", tau*lambdas*unscaled_betas)\n",
    "\n",
    "    mean_function = X @ scaled_betas\n",
    "\n",
    "    numpyro.sample(\"Y\", dist.Bernoulli(logits=mean_function), obs=Y)"
   ]
  },
  {
   "cell_type": "code",
   "execution_count": 195,
   "metadata": {},
   "outputs": [],
   "source": [
    "def run_inference(model, rng_key, X, Y):\n",
    "    nuts = NUTS(model)\n",
    "    mcmc = MCMC(\n",
    "        nuts,\n",
    "        num_warmup=500,\n",
    "        num_samples=1000,\n",
    "        num_chains=4,\n",
    "        progress_bar=False\n",
    "    )\n",
    "    mcmc.run(rng_key, X, Y)\n",
    "    # mcmc.print_summary(exclude_deterministic=True)\n",
    "\n",
    "    samples = mcmc.get_samples()\n",
    "    summary_dict = summary(samples, group_by_chain=False)\n",
    "    return summary_dict"
   ]
  },
  {
   "cell_type": "code",
   "execution_count": 196,
   "metadata": {},
   "outputs": [],
   "source": [
    "def get_data(N, D, sigma):\n",
    "    X = np.random.randn(N, D)\n",
    "    W = np.array([2, -1, 0.5])\n",
    "    Y = jnp.dot(X[:, :3], W)\n",
    "    Y -= jnp.mean(Y)\n",
    "    Y = np.random.binomial(1, sigmoid(Y))\n",
    "    return X, Y\n"
   ]
  },
  {
   "cell_type": "code",
   "execution_count": 197,
   "metadata": {},
   "outputs": [
    {
     "name": "stderr",
     "output_type": "stream",
     "text": [
      "/var/folders/5v/22m3m0gx4zn571r9xrn6pcb80000gn/T/ipykernel_78789/2237750593.py:3: UserWarning: There are not enough devices to run parallel chains: expected 4 but got 1. Chains will be drawn sequentially. If you are running MCMC in CPU, consider using `numpyro.set_host_device_count(4)` at the beginning of your program. You can double-check how many devices are available in your system using `jax.local_device_count()`.\n",
      "  mcmc = MCMC(\n"
     ]
    }
   ],
   "source": [
    "N, D = 50, 10\n",
    "X, Y = get_data(N=N, D=D, sigma=1)\n",
    "rng_key, rng_key_ = random.split(random.PRNGKey(0))\n",
    "summary = run_inference(binary_model, rng_key, X, Y)\n",
    "    \n",
    "    "
   ]
  },
  {
   "cell_type": "code",
   "execution_count": 211,
   "metadata": {},
   "outputs": [
    {
     "name": "stdout",
     "output_type": "stream",
     "text": [
      "\n"
     ]
    },
    {
     "data": {
      "text/plain": [
       "<matplotlib.legend.Legend at 0x2d46c87d0>"
      ]
     },
     "execution_count": 211,
     "metadata": {},
     "output_type": "execute_result"
    },
    {
     "data": {
      "image/png": "[encoded data removed]",
      "text/plain": [
       "<Figure size 640x480 with 1 Axes>"
      ]
     },
     "metadata": {},
     "output_type": "display_data"
    }
   ],
   "source": [
    "betas = summary['betas']['mean']\n",
    "print()\n",
    "\n",
    "plt.plot(betas, 'o', label=\"Estimated Betas\")\n",
    "\n",
    "true_betas = np.zeros(D)\n",
    "\n",
    "true_betas[:3] = [2, -1, 0.5]\n",
    "\n",
    "plt.plot(true_betas, 'co', label=\"True Betas\")\n",
    "plt.legend()"
   ]
  }
 ],
 "metadata": {
  "kernelspec": {
   "display_name": "base",
   "language": "python",
   "name": "python3"
  },
  "language_info": {
   "codemirror_mode": {
    "name": "ipython",
    "version": 3
   },
   "file_extension": ".py",
   "mimetype": "text/x-python",
   "name": "python",
   "nbconvert_exporter": "python",
   "pygments_lexer": "ipython3",
   "version": "3.12.3"
  }
 },
 "nbformat": 4,
 "nbformat_minor": 2
}
