{
 "cells": [
  {
   "cell_type": "code",
   "execution_count": 2,
   "id": "94e5e06a-d262-49fa-9b69-74dd5706d920",
   "metadata": {},
   "outputs": [],
   "source": [
    "# Numerical analysis\n",
    "import numpy as np\n",
    "import jax.numpy as jnp\n",
    "from jax import random\n",
    "from jax.nn import sigmoid\n",
    "\n",
    "# Bayesian inference\n",
    "import numpyro\n",
    "import numpyro.distributions as dist\n",
    "from numpyro.infer import MCMC, NUTS\n",
    "import arviz as az\n",
    "\n",
    "# Visualisation\n",
    "import matplotlib.pyplot as plt\n",
    "import seaborn as sns\n",
    "\n",
    "# Set pseudo random number key\n",
    "prng_key = random.PRNGKey(0)"
   ]
  },
  {
   "cell_type": "code",
   "execution_count": null,
   "id": "530ddcef",
   "metadata": {},
   "outputs": [],
   "source": [
    "def generate_data(dim, pstar, A, sigma, nrep):\n",
    "  \"\"\"\n",
    "  Generate synthetic data.\n",
    "\n",
    "  Parameters:\n",
    "    int dim: The dimension of the dataset\n",
    "    int pstar: The number of true non-zero signals\n",
    "    real A: The magnitude of true non-zero signals\n",
    "    real sigma: Standard deviation of the noise\n",
    "    nrep: The number of replications\n",
    "  \"\"\"\n",
    "  data = np.zeros((nrep, dim))       # Initialise\n",
    "  data[:, :pstar] += A               # Add signal\n",
    "  data += np.random.normal(0, sigma, size=(nrep, dim))  # Add noise\n",
    "  return data"
   ]
  },
  {
   "cell_type": "code",
   "execution_count": null,
   "id": "5ec619c2",
   "metadata": {},
   "outputs": [],
   "source": [
    "def model(lam, sigma=1, y=None):\n",
    "    '''\n",
    "    Defines the Concrete random variable distribution.\n",
    "\n",
    "    Parameters:\n",
    "       real lam: temperature coefficient\n",
    "       real sigma: stdev of y\n",
    "       array y: dependent variable\n",
    "    '''\n",
    "    D = y.shape\n",
    "    alphas = numpyro.deterministic(\"alphas\", jnp.exp(y))\n",
    "    U = numpyro.sample(\"U\", dist.Uniform(0, 1).expand(D))\n",
    "    L = numpyro.deterministic(\"L\", jnp.log(U) - jnp.log(1-U))\n",
    "    gammas = numpyro.deterministic(\"gammas\", sigmoid((L + jnp.log(alphas)) / lam))\n",
    "    kappas = numpyro.deterministic(\"kappas\", 1-gammas)"
   ]
  },
  {
   "cell_type": "markdown",
   "id": "09c9f66b",
   "metadata": {},
   "source": [
    "$$\\begin{align*}\n",
    "\n",
    "\\text{REBAR} =& \n",
    "E[f(H(z)) - \\eta f(\\sigma_\\lambda (\\tilde{z})) \\frac{\\partial}{\\partial \\theta} \\log p(b)) |_{b=H(z)}\\\\\n",
    "&+ \\eta \\frac{\\partial}{\\partial \\theta} f(\\sigma_\\lambda (z)) - \\eta \\frac{\\partial}{\\partial \\theta} f(\\sigma_\\lambda (\\tilde{z}))\n",
    "]\\\\\\\\\n",
    "\n",
    "z &:= \\log \\frac{\\theta}{1-\\theta} + \\log \\frac{u}{1-u} \\\\\n",
    "u &\\sim \\text{Uniform}(0, 1)\\\\\\\\\n",
    "\n",
    "\\tilde{z} &:= \\begin{cases}\n",
    "\\log (\\frac{v}{1-v}\\frac{1}{1-\\theta} + 1), \\text{ if } b=1 \\\\\n",
    "- \\log (\\frac{v}{1-v}\\frac{1}{\\theta} + 1), \\text{ if } b=0 \\\\\n",
    "\\end{cases}\\\\\n",
    "\n",
    "v &\\sim \\text{Uniform}(0, 1) \\\\\\\\\n",
    "\n",
    "H(z) &\\approx \\sigma_\\lambda(z_\\lambda) \\\\\n",
    "z_\\lambda &= \\frac{\\lambda^2+\\lambda+1}{\\lambda+1} \\log\\frac{\\theta}{1-\\theta} + \\log \\frac{u}{1-u}\n",
    "\\end{align*}$$"
   ]
  },
  {
   "cell_type": "code",
   "execution_count": null,
   "id": "147e8294",
   "metadata": {},
   "outputs": [],
   "source": [
    "def rebar_estimator(fn, theta, b, data, eta, lam):\n",
    "    n = data.shape[0]\n",
    "\n",
    "    u = random.uniform(shape=(n,))\n",
    "    v = random.uniform(shape=(n,))\n",
    "\n",
    "    z = jnp.log(theta) - jnp.log(1-theta) + jnp.log(u) - jnp.log(1-u)\n",
    "    z_lam = (lam**+lam+1)/(1+lam) * (jnp.log(theta) - jnp.log(1-theta)) + jnp.log(u) - jnp.log(1-u)\n",
    "    H_z = sigmoid(z_lam / lam)\n",
    "\n",
    "    if b == 1:\n",
    "        z_tilde = jnp.log((v / ((1-v)*(1-theta))) + 1)\n",
    "    elif b == 0:\n",
    "        z_tilde = -jnp.log((v/((1-v)*theta)) + 1)\n",
    "    else:\n",
    "        raise ValueError(\"b must be 0 or 1\")\n",
    "    \n",
    "    \n",
    "    fn(H_z) - eta * fn(sigmoid(z_tilde/lam))* ?? \n",
    "    eta * ??\n",
    "    - eta * ??\n",
    "    "
   ]
  },
  {
   "cell_type": "markdown",
   "id": "025be208",
   "metadata": {},
   "source": [
    "Goal: find $\\lambda$ that minimizes the variance of the REBAR estimator.\n",
    "\n",
    "$$\\begin{align*}\n",
    "\\frac{\\partial}{\\partial \\lambda} \\text{Var}[r(\\lambda)] \n",
    "= E[2r(\\lambda)\\frac{\\partial r(\\lambda)}{\\partial \\lambda}]\n",
    "\\end{align*}$$"
   ]
  },
  {
   "cell_type": "code",
   "execution_count": null,
   "id": "538aad39",
   "metadata": {},
   "outputs": [],
   "source": [
    "def optimizer(data):\n",
    "    rebar = rebar_estimator(fn, theta, b, data, eta, lam)\n",
    "\n",
    "    # minimize the following:\n",
    "    2*rebar * ??\n",
    "    "
   ]
  }
 ],
 "metadata": {
  "kernelspec": {
   "display_name": "Python 3 (ipykernel)",
   "language": "python",
   "name": "python3"
  },
  "language_info": {
   "codemirror_mode": {
    "name": "ipython",
    "version": 3
   },
   "file_extension": ".py",
   "mimetype": "text/x-python",
   "name": "python",
   "nbconvert_exporter": "python",
   "pygments_lexer": "ipython3",
   "version": "3.12.3"
  }
 },
 "nbformat": 4,
 "nbformat_minor": 5
}
